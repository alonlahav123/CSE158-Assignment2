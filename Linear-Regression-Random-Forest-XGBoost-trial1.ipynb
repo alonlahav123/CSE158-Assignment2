{
 "cells": [
  {
   "cell_type": "code",
   "execution_count": 1,
   "id": "98b19c5e",
   "metadata": {
    "id": "98b19c5e"
   },
   "outputs": [
    {
     "name": "stderr",
     "output_type": "stream",
     "text": [
      "2023-12-05 21:07:23.431280: I tensorflow/core/platform/cpu_feature_guard.cc:182] This TensorFlow binary is optimized to use available CPU instructions in performance-critical operations.\n",
      "To enable the following instructions: AVX2 FMA, in other operations, rebuild TensorFlow with the appropriate compiler flags.\n"
     ]
    }
   ],
   "source": [
    "import gzip\n",
    "import json\n",
    "import random\n",
    "import math\n",
    "import time\n",
    "from collections import defaultdict\n",
    "\n",
    "import numpy as np\n",
    "import tensorflow as tf\n",
    "import pandas as pd\n",
    "\n",
    "import sklearn\n",
    "from sklearn import linear_model\n",
    "from sklearn.preprocessing import StandardScaler\n",
    "\n",
    "# Modelling\n",
    "from sklearn.metrics import accuracy_score, confusion_matrix, precision_score, recall_score, ConfusionMatrixDisplay\n",
    "from sklearn.model_selection import RandomizedSearchCV, train_test_split\n",
    "from scipy.stats import randint\n",
    "# Tree Visualisation\n",
    "from sklearn.tree import export_graphviz\n",
    "from IPython.display import Image\n",
    "\n",
    "from xgboost import XGBRegressor   # For regression tasks\n",
    "\n",
    "from sklearn.ensemble import RandomForestRegressor\n",
    "from sklearn.metrics import mean_squared_error"
   ]
  },
  {
   "cell_type": "code",
   "execution_count": null,
   "id": "95e99a0a",
   "metadata": {},
   "outputs": [],
   "source": []
  },
  {
   "cell_type": "code",
   "execution_count": null,
   "id": "7a89150b",
   "metadata": {},
   "outputs": [],
   "source": []
  },
  {
   "cell_type": "code",
   "execution_count": 2,
   "id": "bbf57087",
   "metadata": {},
   "outputs": [],
   "source": [
    "############################## \n",
    "### Data Setup             ###`\n",
    "##############################"
   ]
  },
  {
   "cell_type": "code",
   "execution_count": 3,
   "id": "b6302d90",
   "metadata": {
    "id": "b6302d90"
   },
   "outputs": [],
   "source": [
    "def readGz(path):\n",
    "    for l in gzip.open(path, 'rt'):\n",
    "        yield eval(l)\n",
    "\n",
    "def readJSON(path):\n",
    "    f = gzip.open(path, 'rt')\n",
    "    f.readline()\n",
    "    for l in f:\n",
    "        d = json.loads(l)\n",
    "\n",
    "        yield d\n",
    "\n",
    "# For REVIEW data\n",
    "def readJSON_1(path):\n",
    "    f = gzip.open(path, 'rt')\n",
    "    f.readline()\n",
    "    for l in f:\n",
    "        d = json.loads(l)\n",
    "        u = d['user_id']\n",
    "        n = d['name']\n",
    "        b = d['gmap_id']  # businessID\n",
    "        r = d['rating']\n",
    "        yield u,b,r,n,d\n",
    "\n",
    "# For BUSINESS META-data\n",
    "def readJSON_2(path):\n",
    "    f = gzip.open(path, 'rt')\n",
    "    f.readline()\n",
    "    for l in f:\n",
    "        d = json.loads(l)\n",
    "        b      = d['gmap_id']  # businessID\n",
    "        cat    = d['category']\n",
    "        coords = (d['latitude'], d['longitude'])\n",
    "        name   = d['name']\n",
    "        #state = d['state']   #<<< shouldn't be \"permanently closed\"\n",
    "        yield b,name,cat,coords\n",
    "        #yield b,cat,coords"
   ]
  },
  {
   "cell_type": "code",
   "execution_count": 4,
   "id": "d0dddd2e",
   "metadata": {
    "id": "d0dddd2e"
   },
   "outputs": [],
   "source": [
    "allReviews = []\n",
    "for l in readJSON(\"review-District_of_Columbia_10.json.gz\"):\n",
    "    allReviews.append(l)"
   ]
  },
  {
   "cell_type": "code",
   "execution_count": 5,
   "id": "584056f4",
   "metadata": {
    "id": "584056f4"
   },
   "outputs": [],
   "source": [
    "allMeta = []\n",
    "for l in readJSON(\"meta-District_of_Columbia.json.gz\"):\n",
    "    allMeta.append(l)"
   ]
  },
  {
   "cell_type": "code",
   "execution_count": 6,
   "id": "f01e169a",
   "metadata": {
    "id": "f01e169a"
   },
   "outputs": [],
   "source": [
    "# Reviews by Business ID\n",
    "reviewById = defaultdict(list)\n",
    "\n",
    "for review in allReviews:\n",
    "    gmap_id = review[\"gmap_id\"]\n",
    "    reviewById[gmap_id].append(review)\n"
   ]
  },
  {
   "cell_type": "code",
   "execution_count": 7,
   "id": "33d89b86",
   "metadata": {
    "id": "33d89b86"
   },
   "outputs": [],
   "source": [
    "# Reviews by Business ID\n",
    "metaById = defaultdict(list)\n",
    "\n",
    "for meta in allMeta:\n",
    "    gmap_id = meta[\"gmap_id\"]\n",
    "    metaById[gmap_id].append(meta)\n"
   ]
  },
  {
   "cell_type": "code",
   "execution_count": 8,
   "id": "d66ee48c",
   "metadata": {
    "id": "d66ee48c"
   },
   "outputs": [],
   "source": [
    "allMetaData = []\n",
    "for l in readJSON_2(\"meta-District_of_Columbia.json.gz\"):\n",
    "    allMetaData.append(l)"
   ]
  },
  {
   "cell_type": "code",
   "execution_count": 9,
   "id": "ac435074",
   "metadata": {
    "id": "ac435074",
    "outputId": "56e16d1a-f813-46a4-f8d2-f1f7cb3e0aa3"
   },
   "outputs": [
    {
     "name": "stdout",
     "output_type": "stream",
     "text": [
      "3453\n"
     ]
    }
   ],
   "source": [
    "word_list = [\"restaurant\", \"food\", \"pizza\", \"juice\", \"dessert\", \"takeout\", \"sandwich\", \"diner\", \"bar\", \"cocktail\", \"coffee\", \"cafe\", \"deli\"]  #EXPAND, NON-MANUALLY?\n",
    "word_blacklist = [\"barber shop\", \"eyebrow bar\"]\n",
    "\n",
    "restaurant_gmapIDs = set()\n",
    "\n",
    "count=0\n",
    "for i in range(len(allMetaData)):\n",
    "    if(allMetaData[i][2]):\n",
    "        category_list = [word.lower() for word in allMetaData[i][2]]\n",
    "    else:\n",
    "        category_list = []\n",
    "\n",
    "    contains_word             = any(any(word in s for word in word_list) for s in category_list) # true if any word in word_list is contained in somewhere in category_list\n",
    "    contains_blacklisted_word = any(any(word in s for word in word_blacklist) for s in category_list)\n",
    "\n",
    "    if(category_list and contains_word and not contains_blacklisted_word):\n",
    "        #print(category_list)\n",
    "        restaurant_gmapIDs.add(allMetaData[i][0])\n",
    "\n",
    "        count+=1\n",
    "print(count)\n",
    "\n",
    "restaurant_gmapIDs = list(restaurant_gmapIDs)"
   ]
  },
  {
   "cell_type": "code",
   "execution_count": 10,
   "id": "47bcf120",
   "metadata": {
    "id": "47bcf120"
   },
   "outputs": [
    {
     "name": "stdout",
     "output_type": "stream",
     "text": [
      "347232\n"
     ]
    }
   ],
   "source": [
    "# for every reviewed place that is a restaurant\n",
    "\n",
    "allRestaurantReviews = []\n",
    "for review in allReviews:\n",
    "    u = review[\"user_id\"]\n",
    "    b = review[\"gmap_id\"]\n",
    "    r = review[\"rating\"]\n",
    "\n",
    "    if b in restaurant_gmapIDs:\n",
    "        allRestaurantReviews.append((u,b,r, review))\n",
    "        \n",
    "print(len(allRestaurantReviews))"
   ]
  },
  {
   "cell_type": "code",
   "execution_count": 11,
   "id": "dc6aa116",
   "metadata": {
    "id": "dc6aa116"
   },
   "outputs": [],
   "source": [
    "userIDs = {}\n",
    "bizIDs = {}\n",
    "interactions = []\n",
    "\n",
    "for u,b,r,_ in allRestaurantReviews:\n",
    "    if not u in userIDs: userIDs[u] = len(userIDs)\n",
    "    if not b in bizIDs: bizIDs[b] = len(bizIDs)\n",
    "    interactions.append((u,b,r))"
   ]
  },
  {
   "cell_type": "code",
   "execution_count": 12,
   "id": "b12a5ac7",
   "metadata": {},
   "outputs": [],
   "source": [
    "random.shuffle(allRestaurantReviews)\n",
    "\n",
    "nTrain = int(len(interactions) * 0.8)\n",
    "restReviewsTrain = allRestaurantReviews[:nTrain]\n",
    "restReviewsTest = allRestaurantReviews[nTrain:]"
   ]
  },
  {
   "cell_type": "code",
   "execution_count": null,
   "id": "76882316",
   "metadata": {},
   "outputs": [],
   "source": []
  },
  {
   "cell_type": "code",
   "execution_count": null,
   "id": "4124cd52",
   "metadata": {},
   "outputs": [],
   "source": []
  },
  {
   "cell_type": "code",
   "execution_count": 13,
   "id": "61c427b1",
   "metadata": {
    "id": "61c427b1"
   },
   "outputs": [],
   "source": [
    "############################## \n",
    "### Linear Regression      ###\n",
    "##############################"
   ]
  },
  {
   "cell_type": "code",
   "execution_count": 14,
   "id": "377a82fa",
   "metadata": {},
   "outputs": [],
   "source": [
    "review_length_train = [len(r[3]['text']) if r[3]['text'] is not None else 0 for r in restReviewsTrain]"
   ]
  },
  {
   "cell_type": "code",
   "execution_count": 15,
   "id": "f9c6676d",
   "metadata": {},
   "outputs": [],
   "source": [
    "## Average User Rating Dictionary (using training data ONLY)\n",
    "reviewsPerUser = defaultdict(list)\n",
    "\n",
    "for u,b,r,_ in restReviewsTrain:\n",
    "    reviewsPerUser[u].append(r)\n",
    "\n",
    "userRatingAvgs = {}\n",
    "for user in reviewsPerUser:\n",
    "    if len(reviewsPerUser[user]) != 0:\n",
    "        userRatingAvgs[user] = sum(reviewsPerUser[user])/len(reviewsPerUser[user])"
   ]
  },
  {
   "cell_type": "code",
   "execution_count": 16,
   "id": "b3875294",
   "metadata": {},
   "outputs": [],
   "source": [
    "## Average Business Rating Dictionary (using training data ONLY)\n",
    "reviewsPerBiz = defaultdict(list)\n",
    "\n",
    "for u,b,r,_ in restReviewsTrain:\n",
    "    reviewsPerBiz[b].append(r)\n",
    "\n",
    "bizRatingAvgs = {}\n",
    "for biz in reviewsPerBiz:\n",
    "    if len(reviewsPerBiz[biz]) != 0:\n",
    "        bizRatingAvgs[biz] = sum(reviewsPerBiz[biz])/len(reviewsPerBiz[biz])"
   ]
  },
  {
   "cell_type": "code",
   "execution_count": 17,
   "id": "d918bb98",
   "metadata": {},
   "outputs": [],
   "source": [
    "# Mean rating (using training data ONLY)\n",
    "mu = sum([r for _,_,r,_ in restReviewsTrain]) / len(restReviewsTrain)"
   ]
  },
  {
   "cell_type": "code",
   "execution_count": 18,
   "id": "80a8d82d",
   "metadata": {},
   "outputs": [],
   "source": [
    "## Above is preprocessing for feature engineering\n",
    "## -----------------------------------------------\n",
    "## Below is combining the features"
   ]
  },
  {
   "cell_type": "code",
   "execution_count": 19,
   "id": "ada20af6",
   "metadata": {},
   "outputs": [],
   "source": [
    "def feauture_engineering(dataset):\n",
    "#     users = [d[0] for d in dataset]\n",
    "#     biz = [d[1] for d in dataset]\n",
    "#     dataframe = pd.DataFrame({\"users\": users, \"business\":biz})\n",
    "    dataframe = pd.DataFrame()\n",
    "    \n",
    "    dataframe[\"review_length\"] = [len(r[3]['text']) if r[3]['text'] is not None else 0 for r in dataset]\n",
    "    dataframe[\"avg_user_rating\"] = [userRatingAvgs[d[0]] if d[0] in userRatingAvgs.keys() else mu for d in dataset]\n",
    "    dataframe[\"avg_biz_rating\"] = [bizRatingAvgs[d[1]] if d[1] in bizRatingAvgs.keys() else mu for d in dataset]\n",
    "    # sentiment analysis library\n",
    "    # jaccard similarities\n",
    "    \n",
    "    dataframe[\"labels\"] = [r[2] for r in dataset]\n",
    "    return dataframe"
   ]
  },
  {
   "cell_type": "code",
   "execution_count": 20,
   "id": "7e238797",
   "metadata": {},
   "outputs": [],
   "source": [
    "## Generating data\n",
    "data = feauture_engineering(restReviewsTrain)\n",
    "y = data['labels']\n",
    "X = data.drop(['labels'], axis=1)"
   ]
  },
  {
   "cell_type": "code",
   "execution_count": 21,
   "id": "31619384",
   "metadata": {},
   "outputs": [],
   "source": [
    "## Standardizing the features and splitting into train and validation\n",
    "scaler = StandardScaler()\n",
    "scaler.fit(X)\n",
    "X_scaled = scaler.transform(X)\n",
    "X_train, X_val, y_train, y_val = train_test_split(X_scaled, y, test_size=0.1, random_state=42)"
   ]
  },
  {
   "cell_type": "code",
   "execution_count": 22,
   "id": "4c96972d",
   "metadata": {},
   "outputs": [
    {
     "data": {
      "text/plain": [
       "LinearRegression()"
      ]
     },
     "execution_count": 22,
     "metadata": {},
     "output_type": "execute_result"
    }
   ],
   "source": [
    "## Fitting LinearRegression Model\n",
    "lrmodel = linear_model.LinearRegression()\n",
    "lrmodel.fit(X_train,y_train)"
   ]
  },
  {
   "cell_type": "code",
   "execution_count": 23,
   "id": "339aeb8a",
   "metadata": {},
   "outputs": [
    {
     "name": "stdout",
     "output_type": "stream",
     "text": [
      "MSE Train: 0.6330281383442264\n",
      "MSE Valid: 0.6211703958621503\n",
      "MSE Test: 0.6318423427526371\n"
     ]
    }
   ],
   "source": [
    "## MSE of training set:\n",
    "y_train_pred = lrmodel.predict(X_train)\n",
    "mse_train = mean_squared_error(y_train, y_train_pred)\n",
    "\n",
    "## MSE of validation set:\n",
    "y_valid_pred = lrmodel.predict(X_val)\n",
    "mse_valid = mean_squared_error(y_val, y_valid_pred)\n",
    "\n",
    "## TESTING ##\n",
    "data_test = feauture_engineering(restReviewsTest)\n",
    "X_test = data.drop(['labels'], axis=1)\n",
    "X_test_scaled = scaler.transform(X_test)\n",
    "y_test = data['labels']\n",
    "\n",
    "y_test_pred = lrmodel.predict(X_test_scaled)\n",
    "mse_test = mean_squared_error(y_test, y_test_pred)\n",
    "\n",
    "\n",
    "print(\"MSE Train: \" + str(mse_train))\n",
    "print(\"MSE Valid: \" + str(mse_valid))\n",
    "print(\"MSE Test: \" + str(mse_test))"
   ]
  },
  {
   "cell_type": "code",
   "execution_count": 24,
   "id": "15ad1dd5",
   "metadata": {},
   "outputs": [
    {
     "name": "stdout",
     "output_type": "stream",
     "text": [
      "Coefficients: [-0.08167789  0.49193233  0.21440637]\n",
      "Intercept: 4.290035822299101\n"
     ]
    }
   ],
   "source": [
    "# Accessing coefficients\n",
    "coefficients = lrmodel.coef_\n",
    "print(\"Coefficients:\", coefficients)\n",
    "\n",
    "# Accessing intercept\n",
    "intercept = lrmodel.intercept_\n",
    "print(\"Intercept:\", intercept)"
   ]
  },
  {
   "cell_type": "code",
   "execution_count": null,
   "id": "a63a70a8",
   "metadata": {},
   "outputs": [],
   "source": []
  },
  {
   "cell_type": "code",
   "execution_count": null,
   "id": "f2447a8f",
   "metadata": {},
   "outputs": [],
   "source": []
  },
  {
   "cell_type": "code",
   "execution_count": 25,
   "id": "2583d571",
   "metadata": {},
   "outputs": [],
   "source": [
    "################################ \n",
    "### Random Forest Regression ###\n",
    "################################"
   ]
  },
  {
   "cell_type": "code",
   "execution_count": 26,
   "id": "67a968f9",
   "metadata": {},
   "outputs": [],
   "source": [
    "## Generating data\n",
    "data = feauture_engineering(restReviewsTrain)\n",
    "y = data['labels']\n",
    "X = data.drop(['labels'], axis=1)\n",
    "## Standardizing the features and splitting into train and validation\n",
    "scaler = StandardScaler()\n",
    "scaler.fit(X)\n",
    "X_scaled = scaler.transform(X)\n",
    "X_train, X_val, y_train, y_val = train_test_split(X_scaled, y, test_size=0.1, random_state=30)"
   ]
  },
  {
   "cell_type": "code",
   "execution_count": 27,
   "id": "b4d86d89",
   "metadata": {},
   "outputs": [
    {
     "data": {
      "text/plain": [
       "RandomForestRegressor(max_depth=10, random_state=30)"
      ]
     },
     "execution_count": 27,
     "metadata": {},
     "output_type": "execute_result"
    }
   ],
   "source": [
    "rfrmodel = RandomForestRegressor(random_state=30, max_depth=10)\n",
    "rfrmodel.fit(X_train, y_train)"
   ]
  },
  {
   "cell_type": "code",
   "execution_count": 28,
   "id": "5907f27e",
   "metadata": {},
   "outputs": [
    {
     "name": "stdout",
     "output_type": "stream",
     "text": [
      "MSE Train: 0.5869195034973368\n",
      "MSE Valid: 0.6073288296261142\n",
      "MSE Test: 0.5889604728460465\n"
     ]
    }
   ],
   "source": [
    "## MSE of training set:\n",
    "y_train_pred = rfrmodel.predict(X_train)\n",
    "mse_train = mean_squared_error(y_train, y_train_pred)\n",
    "\n",
    "## MSE of validation set:\n",
    "y_valid_pred = rfrmodel.predict(X_val)\n",
    "mse_valid = mean_squared_error(y_val, y_valid_pred)\n",
    "\n",
    "## TESTING ##\n",
    "data_test = feauture_engineering(restReviewsTest)\n",
    "X_test = data.drop(['labels'], axis=1)\n",
    "X_test_scaled = scaler.transform(X_test)\n",
    "y_test = data['labels']\n",
    "\n",
    "y_test_pred = rfrmodel.predict(X_test_scaled)\n",
    "mse_test = mean_squared_error(y_test, y_test_pred)\n",
    "\n",
    "\n",
    "print(\"MSE Train: \" + str(mse_train))\n",
    "print(\"MSE Valid: \" + str(mse_valid))\n",
    "print(\"MSE Test: \" + str(mse_test))"
   ]
  },
  {
   "cell_type": "code",
   "execution_count": null,
   "id": "30aaa31a",
   "metadata": {},
   "outputs": [],
   "source": []
  },
  {
   "cell_type": "code",
   "execution_count": null,
   "id": "0d564e8f",
   "metadata": {},
   "outputs": [],
   "source": []
  },
  {
   "cell_type": "code",
   "execution_count": 29,
   "id": "a8ec2f27",
   "metadata": {},
   "outputs": [],
   "source": [
    "############################## \n",
    "### XGBoost                ###\n",
    "##############################"
   ]
  },
  {
   "cell_type": "code",
   "execution_count": 30,
   "id": "3595e355",
   "metadata": {},
   "outputs": [],
   "source": [
    "## Generating data\n",
    "data = feauture_engineering(restReviewsTrain)\n",
    "y = data['labels']\n",
    "X = data.drop(['labels'], axis=1)\n",
    "## Standardizing the features and splitting into train and validation\n",
    "scaler = StandardScaler()\n",
    "scaler.fit(X)\n",
    "X_scaled = scaler.transform(X)\n",
    "X_train, X_val, y_train, y_val = train_test_split(X_scaled, y, test_size=0.1, random_state=42)"
   ]
  },
  {
   "cell_type": "code",
   "execution_count": 31,
   "id": "1865c3d2",
   "metadata": {},
   "outputs": [
    {
     "data": {
      "text/plain": [
       "XGBRegressor(base_score=None, booster=None, callbacks=None,\n",
       "             colsample_bylevel=None, colsample_bynode=None,\n",
       "             colsample_bytree=None, device=None, early_stopping_rounds=None,\n",
       "             enable_categorical=False, eval_metric=None, feature_types=None,\n",
       "             gamma=None, grow_policy=None, importance_type=None,\n",
       "             interaction_constraints=None, learning_rate=None, max_bin=None,\n",
       "             max_cat_threshold=None, max_cat_to_onehot=None,\n",
       "             max_delta_step=None, max_depth=None, max_leaves=None,\n",
       "             min_child_weight=None, missing=nan, monotone_constraints=None,\n",
       "             multi_strategy=None, n_estimators=None, n_jobs=None,\n",
       "             num_parallel_tree=None, random_state=None, ...)"
      ]
     },
     "execution_count": 31,
     "metadata": {},
     "output_type": "execute_result"
    }
   ],
   "source": [
    "## Fitting the XGBRegressor Model\n",
    "xgbmodel = XGBRegressor()\n",
    "xgbmodel.fit(X_train, y_train)"
   ]
  },
  {
   "cell_type": "code",
   "execution_count": 32,
   "id": "d554825c",
   "metadata": {},
   "outputs": [
    {
     "name": "stdout",
     "output_type": "stream",
     "text": [
      "MSE Train: 0.5810418904322021\n",
      "MSE Valid: 0.6091649793534334\n",
      "MSE Test: 0.5838542499445694\n"
     ]
    }
   ],
   "source": [
    "## MSE of training set:\n",
    "y_train_pred = xgbmodel.predict(X_train)\n",
    "mse_train = mean_squared_error(y_train, y_train_pred)\n",
    "\n",
    "## MSE of validation set:\n",
    "y_valid_pred = xgbmodel.predict(X_val)\n",
    "mse_valid = mean_squared_error(y_val, y_valid_pred)\n",
    "\n",
    "## TESTING ##\n",
    "data_test = feauture_engineering(restReviewsTest)\n",
    "X_test = data.drop(['labels'], axis=1)\n",
    "X_test_scaled = scaler.transform(X_test)\n",
    "y_test = data['labels']\n",
    "\n",
    "y_test_pred = xgbmodel.predict(X_test_scaled)\n",
    "mse_test = mean_squared_error(y_test, y_test_pred)\n",
    "\n",
    "\n",
    "print(\"MSE Train: \" + str(mse_train))\n",
    "print(\"MSE Valid: \" + str(mse_valid))\n",
    "print(\"MSE Test: \" + str(mse_test))"
   ]
  },
  {
   "cell_type": "code",
   "execution_count": null,
   "id": "9bfc69dd",
   "metadata": {},
   "outputs": [],
   "source": []
  }
 ],
 "metadata": {
  "colab": {
   "provenance": []
  },
  "kernelspec": {
   "display_name": "Python 3 (ipykernel)",
   "language": "python",
   "name": "python3"
  },
  "language_info": {
   "codemirror_mode": {
    "name": "ipython",
    "version": 3
   },
   "file_extension": ".py",
   "mimetype": "text/x-python",
   "name": "python",
   "nbconvert_exporter": "python",
   "pygments_lexer": "ipython3",
   "version": "3.9.5"
  }
 },
 "nbformat": 4,
 "nbformat_minor": 5
}
