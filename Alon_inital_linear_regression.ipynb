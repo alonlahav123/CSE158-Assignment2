{
 "cells": [
  {
   "cell_type": "code",
   "execution_count": 1,
   "id": "98b19c5e",
   "metadata": {
    "id": "98b19c5e"
   },
   "outputs": [
    {
     "name": "stderr",
     "output_type": "stream",
     "text": [
      "2023-12-05 20:03:31.135953: I tensorflow/core/platform/cpu_feature_guard.cc:182] This TensorFlow binary is optimized to use available CPU instructions in performance-critical operations.\n",
      "To enable the following instructions: AVX2 FMA, in other operations, rebuild TensorFlow with the appropriate compiler flags.\n"
     ]
    }
   ],
   "source": [
    "import gzip\n",
    "import json\n",
    "import random\n",
    "import math\n",
    "import time\n",
    "from collections import defaultdict\n",
    "\n",
    "import numpy as np\n",
    "import tensorflow as tf\n",
    "import pandas as pd\n",
    "\n",
    "import sklearn\n",
    "from sklearn import linear_model\n",
    "from sklearn.ensemble import RandomForestClassifier\n",
    "from sklearn.model_selection import RandomizedSearchCV, train_test_split\n",
    "from sklearn.preprocessing import StandardScaler\n",
    "\n",
    "# Modelling\n",
    "from sklearn.ensemble import RandomForestClassifier\n",
    "from sklearn.metrics import accuracy_score, confusion_matrix, precision_score, recall_score, ConfusionMatrixDisplay\n",
    "from sklearn.model_selection import RandomizedSearchCV, train_test_split\n",
    "from scipy.stats import randint\n",
    "# Tree Visualisation\n",
    "from sklearn.tree import export_graphviz\n",
    "from IPython.display import Image"
   ]
  },
  {
   "cell_type": "code",
   "execution_count": 2,
   "id": "bbf57087",
   "metadata": {},
   "outputs": [],
   "source": [
    "############################## \n",
    "### Data Setup             ###\n",
    "##############################"
   ]
  },
  {
   "cell_type": "code",
   "execution_count": 3,
   "id": "b6302d90",
   "metadata": {
    "id": "b6302d90"
   },
   "outputs": [],
   "source": [
    "def readGz(path):\n",
    "    for l in gzip.open(path, 'rt'):\n",
    "        yield eval(l)\n",
    "\n",
    "def readJSON(path):\n",
    "    f = gzip.open(path, 'rt')\n",
    "    f.readline()\n",
    "    for l in f:\n",
    "        d = json.loads(l)\n",
    "\n",
    "        yield d\n",
    "\n",
    "# For REVIEW data\n",
    "def readJSON_1(path):\n",
    "    f = gzip.open(path, 'rt')\n",
    "    f.readline()\n",
    "    for l in f:\n",
    "        d = json.loads(l)\n",
    "        u = d['user_id']\n",
    "        n = d['name']\n",
    "        b = d['gmap_id']  # businessID\n",
    "        r = d['rating']\n",
    "        yield u,b,r,n,d\n",
    "\n",
    "# For BUSINESS META-data\n",
    "def readJSON_2(path):\n",
    "    f = gzip.open(path, 'rt')\n",
    "    f.readline()\n",
    "    for l in f:\n",
    "        d = json.loads(l)\n",
    "        b      = d['gmap_id']  # businessID\n",
    "        cat    = d['category']\n",
    "        coords = (d['latitude'], d['longitude'])\n",
    "        name   = d['name']\n",
    "        #state = d['state']   #<<< shouldn't be \"permanently closed\"\n",
    "        yield b,name,cat,coords\n",
    "        #yield b,cat,coords"
   ]
  },
  {
   "cell_type": "code",
   "execution_count": 4,
   "id": "d0dddd2e",
   "metadata": {
    "id": "d0dddd2e"
   },
   "outputs": [],
   "source": [
    "allReviews = []\n",
    "for l in readJSON(\"review-District_of_Columbia_10.json.gz\"):\n",
    "    allReviews.append(l)"
   ]
  },
  {
   "cell_type": "code",
   "execution_count": 5,
   "id": "584056f4",
   "metadata": {
    "id": "584056f4"
   },
   "outputs": [],
   "source": [
    "allMeta = []\n",
    "for l in readJSON(\"meta-District_of_Columbia.json.gz\"):\n",
    "    allMeta.append(l)"
   ]
  },
  {
   "cell_type": "code",
   "execution_count": 6,
   "id": "f01e169a",
   "metadata": {
    "id": "f01e169a"
   },
   "outputs": [],
   "source": [
    "# Reviews by Business ID\n",
    "reviewById = defaultdict(list)\n",
    "\n",
    "for review in allReviews:\n",
    "    gmap_id = review[\"gmap_id\"]\n",
    "    reviewById[gmap_id].append(review)\n"
   ]
  },
  {
   "cell_type": "code",
   "execution_count": 7,
   "id": "33d89b86",
   "metadata": {
    "id": "33d89b86"
   },
   "outputs": [],
   "source": [
    "# Reviews by Business ID\n",
    "metaById = defaultdict(list)\n",
    "\n",
    "for meta in allMeta:\n",
    "    gmap_id = meta[\"gmap_id\"]\n",
    "    metaById[gmap_id].append(meta)\n"
   ]
  },
  {
   "cell_type": "code",
   "execution_count": 8,
   "id": "d66ee48c",
   "metadata": {
    "id": "d66ee48c"
   },
   "outputs": [],
   "source": [
    "allMetaData = []\n",
    "for l in readJSON_2(\"meta-District_of_Columbia.json.gz\"):\n",
    "    allMetaData.append(l)"
   ]
  },
  {
   "cell_type": "code",
   "execution_count": 9,
   "id": "ac435074",
   "metadata": {
    "id": "ac435074",
    "outputId": "56e16d1a-f813-46a4-f8d2-f1f7cb3e0aa3"
   },
   "outputs": [
    {
     "name": "stdout",
     "output_type": "stream",
     "text": [
      "3453\n"
     ]
    }
   ],
   "source": [
    "word_list = [\"restaurant\", \"food\", \"pizza\", \"juice\", \"dessert\", \"takeout\", \"sandwich\", \"diner\", \"bar\", \"cocktail\", \"coffee\", \"cafe\", \"deli\"]  #EXPAND, NON-MANUALLY?\n",
    "word_blacklist = [\"barber shop\", \"eyebrow bar\"]\n",
    "\n",
    "restaurant_gmapIDs = set()\n",
    "\n",
    "count=0\n",
    "for i in range(len(allMetaData)):\n",
    "    if(allMetaData[i][2]):\n",
    "        category_list = [word.lower() for word in allMetaData[i][2]]\n",
    "    else:\n",
    "        category_list = []\n",
    "\n",
    "    contains_word             = any(any(word in s for word in word_list) for s in category_list) # true if any word in word_list is contained in somewhere in category_list\n",
    "    contains_blacklisted_word = any(any(word in s for word in word_blacklist) for s in category_list)\n",
    "\n",
    "    if(category_list and contains_word and not contains_blacklisted_word):\n",
    "        #print(category_list)\n",
    "        restaurant_gmapIDs.add(allMetaData[i][0])\n",
    "\n",
    "        count+=1\n",
    "print(count)\n",
    "\n",
    "restaurant_gmapIDs = list(restaurant_gmapIDs)"
   ]
  },
  {
   "cell_type": "code",
   "execution_count": 10,
   "id": "47bcf120",
   "metadata": {
    "id": "47bcf120"
   },
   "outputs": [
    {
     "name": "stdout",
     "output_type": "stream",
     "text": [
      "347232\n"
     ]
    }
   ],
   "source": [
    "# for every reviewed place that is a restaurant\n",
    "\n",
    "allRestaurantReviews = []\n",
    "for review in allReviews:\n",
    "    u = review[\"user_id\"]\n",
    "    b = review[\"gmap_id\"]\n",
    "    r = review[\"rating\"]\n",
    "\n",
    "    if b in restaurant_gmapIDs:\n",
    "        allRestaurantReviews.append((u,b,r, review))\n",
    "        \n",
    "print(len(allRestaurantReviews))"
   ]
  },
  {
   "cell_type": "code",
   "execution_count": 35,
   "id": "dc6aa116",
   "metadata": {
    "id": "dc6aa116"
   },
   "outputs": [],
   "source": [
    "userIDs = {}\n",
    "bizIDs = {}\n",
    "interactions = []\n",
    "\n",
    "for u,b,r,_ in allRestaurantReviews:\n",
    "    if not u in userIDs: userIDs[u] = len(userIDs)\n",
    "    if not b in bizIDs: bizIDs[b] = len(bizIDs)\n",
    "    interactions.append((u,b,r))"
   ]
  },
  {
   "cell_type": "code",
   "execution_count": 36,
   "id": "b12a5ac7",
   "metadata": {},
   "outputs": [],
   "source": [
    "random.shuffle(allRestaurantReviews)\n",
    "\n",
    "nTrain = int(len(interactions) * 0.8)\n",
    "restReviewsTrain = allRestaurantReviews[:nTrain]\n",
    "restReviewsTest = allRestaurantReviews[nTrain:]"
   ]
  },
  {
   "cell_type": "code",
   "execution_count": 37,
   "id": "092225a3",
   "metadata": {},
   "outputs": [],
   "source": [
    "def mean_squared_error(labels, predicted):\n",
    "    # Ensure both actual and predicted have the same length\n",
    "    if len(labels) != len(predicted):\n",
    "        raise ValueError(\"Lengths of actual and predicted arrays should be the same.\")\n",
    "\n",
    "    # Calculate MSE\n",
    "    differences = [(x-y)**2 for x,y in zip(predicted,labels)]\n",
    "    return sum(differences) / len(differences)"
   ]
  },
  {
   "cell_type": "code",
   "execution_count": 38,
   "id": "61c427b1",
   "metadata": {
    "id": "61c427b1"
   },
   "outputs": [],
   "source": [
    "############################## \n",
    "### Linear Regression      ###\n",
    "##############################"
   ]
  },
  {
   "cell_type": "code",
   "execution_count": 39,
   "id": "377a82fa",
   "metadata": {},
   "outputs": [],
   "source": [
    "review_length_train = [len(r[3]['text']) if r[3]['text'] is not None else 0 for r in restReviewsTrain]"
   ]
  },
  {
   "cell_type": "code",
   "execution_count": 40,
   "id": "f9c6676d",
   "metadata": {},
   "outputs": [],
   "source": [
    "## Average User Rating Dictionary (using training data ONLY)\n",
    "reviewsPerUser = defaultdict(list)\n",
    "\n",
    "for u,b,r,_ in restReviewsTrain:\n",
    "    reviewsPerUser[u].append(r)\n",
    "\n",
    "userRatingAvgs = {}\n",
    "for user in reviewsPerUser:\n",
    "    if len(reviewsPerUser[user]) != 0:\n",
    "        userRatingAvgs[user] = sum(reviewsPerUser[user])/len(reviewsPerUser[user])"
   ]
  },
  {
   "cell_type": "code",
   "execution_count": 41,
   "id": "b3875294",
   "metadata": {},
   "outputs": [],
   "source": [
    "## Average Business Rating Dictionary (using training data ONLY)\n",
    "reviewsPerBiz = defaultdict(list)\n",
    "\n",
    "for u,b,r,_ in restReviewsTrain:\n",
    "    reviewsPerBiz[b].append(r)\n",
    "\n",
    "bizRatingAvgs = {}\n",
    "for biz in reviewsPerBiz:\n",
    "    if len(reviewsPerBiz[biz]) != 0:\n",
    "        bizRatingAvgs[biz] = sum(reviewsPerBiz[biz])/len(reviewsPerBiz[biz])"
   ]
  },
  {
   "cell_type": "code",
   "execution_count": 65,
   "id": "fa13f2f9",
   "metadata": {},
   "outputs": [
    {
     "data": {
      "text/plain": [
       "2767"
      ]
     },
     "execution_count": 65,
     "metadata": {},
     "output_type": "execute_result"
    }
   ],
   "source": [
    "len(bizRatingAvgs)"
   ]
  },
  {
   "cell_type": "code",
   "execution_count": 53,
   "id": "cc43ff33",
   "metadata": {},
   "outputs": [],
   "source": [
    "# Mean rating (using training data ONLY)\n",
    "mu = sum([r for _,_,r,_ in restReviewsTrain]) / len(restReviewsTrain)"
   ]
  },
  {
   "cell_type": "code",
   "execution_count": 54,
   "id": "80a8d82d",
   "metadata": {},
   "outputs": [],
   "source": [
    "## Above is preprocessing\n",
    "## Below is combining the features"
   ]
  },
  {
   "cell_type": "code",
   "execution_count": 55,
   "id": "ada20af6",
   "metadata": {},
   "outputs": [],
   "source": [
    "def feauture_engineering(dataset):\n",
    "#     users = [d[0] for d in dataset]\n",
    "#     biz = [d[1] for d in dataset]\n",
    "#     dataframe = pd.DataFrame({\"users\": users, \"business\":biz})\n",
    "    dataframe = pd.DataFrame()\n",
    "    \n",
    "    dataframe[\"review_length\"] = [len(r[3]['text']) if r[3]['text'] is not None else 0 for r in dataset]\n",
    "    dataframe[\"avg_user_rating\"] = [userRatingAvgs[d[0]] if d[0] in userRatingAvgs.keys() else mu for d in dataset]\n",
    "    dataframe[\"avg_biz_rating\"] = [bizRatingAvgs[d[1]] if d[1] in bizRatingAvgs.keys() else mu for d in dataset]\n",
    "    # sentiment analysis library\n",
    "    # \n",
    "    \n",
    "    dataframe[\"labels\"] = [r[2] for r in dataset]\n",
    "    return dataframe"
   ]
  },
  {
   "cell_type": "code",
   "execution_count": 56,
   "id": "7e238797",
   "metadata": {},
   "outputs": [],
   "source": [
    "## Generating data\n",
    "data = feauture_engineering(restReviewsTrain)\n",
    "y = data['labels']\n",
    "X = data.drop(['labels'], axis=1)"
   ]
  },
  {
   "cell_type": "code",
   "execution_count": 57,
   "id": "31619384",
   "metadata": {},
   "outputs": [],
   "source": [
    "## Standardizing the features and splitting into train and validation\n",
    "scaler = StandardScaler()\n",
    "scaler.fit(X)\n",
    "X_scaled = scaler.transform(X)\n",
    "X_train, X_val, y_train, y_val = train_test_split(X_scaled, y, test_size=0.1, random_state=42)"
   ]
  },
  {
   "cell_type": "code",
   "execution_count": 58,
   "id": "4c96972d",
   "metadata": {},
   "outputs": [
    {
     "data": {
      "text/plain": [
       "LinearRegression()"
      ]
     },
     "execution_count": 58,
     "metadata": {},
     "output_type": "execute_result"
    }
   ],
   "source": [
    "## Fitting Model\n",
    "model = linear_model.LinearRegression()\n",
    "model.fit(X_train,y_train)"
   ]
  },
  {
   "cell_type": "code",
   "execution_count": 59,
   "id": "767929f7",
   "metadata": {},
   "outputs": [
    {
     "data": {
      "text/plain": [
       "0.6340336602745007"
      ]
     },
     "execution_count": 59,
     "metadata": {},
     "output_type": "execute_result"
    }
   ],
   "source": [
    "## MSE of training set:\n",
    "y_train_pred = model.predict(X_train)\n",
    "mse = mean_squared_error(y_train, y_train_pred)\n",
    "mse"
   ]
  },
  {
   "cell_type": "code",
   "execution_count": 60,
   "id": "67dd771a",
   "metadata": {
    "scrolled": true
   },
   "outputs": [
    {
     "data": {
      "text/plain": [
       "0.613035587635915"
      ]
     },
     "execution_count": 60,
     "metadata": {},
     "output_type": "execute_result"
    }
   ],
   "source": [
    "## MSE of validation set:\n",
    "y_valid_pred = model.predict(X_val)\n",
    "mse = mean_squared_error(y_val, y_valid_pred)\n",
    "mse"
   ]
  },
  {
   "cell_type": "code",
   "execution_count": 61,
   "id": "bf096c1c",
   "metadata": {},
   "outputs": [
    {
     "name": "stdout",
     "output_type": "stream",
     "text": [
      "Coefficients: [-0.08321184  0.49140445  0.21595786]\n",
      "Intercept: 4.287303624850521\n"
     ]
    }
   ],
   "source": [
    "# Accessing coefficients\n",
    "coefficients = model.coef_\n",
    "print(\"Coefficients:\", coefficients)\n",
    "\n",
    "# Accessing intercept\n",
    "intercept = model.intercept_\n",
    "print(\"Intercept:\", intercept)"
   ]
  },
  {
   "cell_type": "code",
   "execution_count": 66,
   "id": "483d2509",
   "metadata": {},
   "outputs": [
    {
     "data": {
      "text/plain": [
       "0.6319338152151112"
      ]
     },
     "execution_count": 66,
     "metadata": {},
     "output_type": "execute_result"
    }
   ],
   "source": [
    "## TESTING\n",
    "data_test = feauture_engineering(restReviewsTest)\n",
    "X_test = data.drop(['labels'], axis=1)\n",
    "X_test_scaled = scaler.transform(X_test)\n",
    "y_test = data['labels']\n",
    "y_test_pred = model.predict(X_test_scaled)\n",
    "mse = mean_squared_error(y_test, y_test_pred)\n",
    "mse"
   ]
  }
 ],
 "metadata": {
  "colab": {
   "provenance": []
  },
  "kernelspec": {
   "display_name": "Python 3 (ipykernel)",
   "language": "python",
   "name": "python3"
  },
  "language_info": {
   "codemirror_mode": {
    "name": "ipython",
    "version": 3
   },
   "file_extension": ".py",
   "mimetype": "text/x-python",
   "name": "python",
   "nbconvert_exporter": "python",
   "pygments_lexer": "ipython3",
   "version": "3.9.5"
  }
 },
 "nbformat": 4,
 "nbformat_minor": 5
}
